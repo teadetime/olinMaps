{
 "cells": [
  {
   "cell_type": "code",
   "execution_count": null,
   "metadata": {},
   "outputs": [],
   "source": [
    "from astar import *\n",
    "\n",
    "g = build_graph(vis=False, directed=False)\n",
    "\n",
    "Start = \"AC 1\"\n",
    "End = \"WH 1\"\n",
    "A = astar(g, Start, End)\n",
    "visualize_graph(g, A[0], Start, End)"
   ]
  }
 ],
 "metadata": {
  "kernelspec": {
   "display_name": "Python 3",
   "language": "python",
   "name": "python3"
  },
  "language_info": {
   "codemirror_mode": {
    "name": "ipython",
    "version": 3
   },
   "file_extension": ".py",
   "mimetype": "text/x-python",
   "name": "python",
   "nbconvert_exporter": "python",
   "pygments_lexer": "ipython3",
   "version": "3.6.5"
  }
 },
 "nbformat": 4,
 "nbformat_minor": 2
}
